{
  "nbformat": 4,
  "nbformat_minor": 0,
  "metadata": {
    "colab": {
      "provenance": []
    },
    "kernelspec": {
      "name": "python3",
      "display_name": "Python 3"
    },
    "language_info": {
      "name": "python"
    }
  },
  "cells": [
    {
      "cell_type": "code",
      "execution_count": 12,
      "metadata": {
        "id": "JqCQlhqn5UQr"
      },
      "outputs": [],
      "source": [
        "# LIBRARIES\n",
        "\n",
        "\n",
        "import gradio as gr\n",
        "import pandas as pd\n",
        "import requests\n",
        "\n",
        "\n"
      ]
    },
    {
      "cell_type": "code",
      "source": [
        "# ===== In-memory storage for CRUD =====\n",
        "weather_db = {}  # key = location, value = dict with weather info\n",
        "\n",
        "# ===== Function to fetch weather data =====\n",
        "def fetch_weather(city):\n",
        "    try:\n",
        "        if not city.strip():\n",
        "            return None, \"❌ Please enter a valid city name.\"\n",
        "\n",
        "        geocode_url = f\"https://nominatim.openstreetmap.org/search?city={city}&format=json\"\n",
        "        headers = {\"User-Agent\": \"HuggingFaceSpacesWeatherApp/1.0 (your_email@example.com)\"}\n",
        "        geocode_resp = requests.get(geocode_url, headers=headers).json()\n",
        "\n",
        "        if not geocode_resp:\n",
        "            return None, f\"❌ Could not find location: {city}\"\n",
        "\n",
        "        lat = geocode_resp[0][\"lat\"]\n",
        "        lon = geocode_resp[0][\"lon\"]\n",
        "\n",
        "        weather_url = (\n",
        "            f\"https://api.open-meteo.com/v1/forecast?latitude={lat}&longitude={lon}\"\n",
        "            f\"&daily=temperature_2m_max,temperature_2m_min,weathercode&timezone=auto\"\n",
        "        )\n",
        "        weather_resp = requests.get(weather_url).json()\n",
        "\n",
        "        if \"daily\" not in weather_resp:\n",
        "            return None, \"⚠️ Weather data unavailable for this location.\"\n",
        "\n",
        "        dates = weather_resp[\"daily\"][\"time\"]\n",
        "        max_temps = weather_resp[\"daily\"][\"temperature_2m_max\"]\n",
        "        min_temps = weather_resp[\"daily\"][\"temperature_2m_min\"]\n",
        "        weather_codes = weather_resp[\"daily\"][\"weathercode\"]\n",
        "\n",
        "        weather_dict = {\n",
        "            0: \"☀️ Clear sky\",\n",
        "            1: \"🌤️ Mainly clear\",\n",
        "            2: \"🌦️ Partly cloudy\",\n",
        "            3: \"☁️ Overcast\",\n",
        "            45: \"🌫️ Fog\",\n",
        "            48: \"🌫️ Rime fog\",\n",
        "            51: \"🌦️ Drizzle\",\n",
        "            61: \"🌧️ Rain\",\n",
        "            71: \"❄️ Snow\",\n",
        "            95: \"⛈️ Thunderstorm\"\n",
        "        }\n",
        "        descriptions = [weather_dict.get(code, \"🌍 Unknown\") for code in weather_codes]\n",
        "\n",
        "        df = pd.DataFrame({\n",
        "            \"Date\": dates,\n",
        "            \"Min Temp (°C)\": min_temps,\n",
        "            \"Max Temp (°C)\": max_temps,\n",
        "            \"Condition\": descriptions\n",
        "        })\n",
        "\n",
        "        summary = f\"✅ Weather data for **{city.title()}** (7-Day Forecast):\\n\\n\"\n",
        "        for i in range(len(dates)):\n",
        "            summary += f\"{dates[i]}: {min_temps[i]}°C - {max_temps[i]}°C | {descriptions[i]}\\n\"\n",
        "\n",
        "        return {\"summary\": summary, \"dataframe\": df}, None\n",
        "\n",
        "    except Exception as e:\n",
        "        return None, f\"⚠️ Error: {str(e)}\""
      ],
      "metadata": {
        "id": "c9wzFqoiUc14"
      },
      "execution_count": 13,
      "outputs": []
    },
    {
      "cell_type": "code",
      "source": [
        "# ===== CRUD Operations =====\n",
        "def create_location(city):\n",
        "    weather, error = fetch_weather(city)\n",
        "    if error:\n",
        "        return str(error), list(weather_db.keys())\n",
        "    weather_db[city] = weather\n",
        "    return f\"✅ Added {city} to the list.\", list(weather_db.keys())\n",
        "\n",
        "def read_locations():\n",
        "    if not weather_db:\n",
        "        return \"No locations saved yet.\", []\n",
        "    return \"Saved Locations:\", list(weather_db.keys())\n",
        "\n",
        "def update_location(old_city, new_city):\n",
        "    if old_city not in weather_db:\n",
        "        return f\"❌ {old_city} not found.\", list(weather_db.keys())\n",
        "    weather, error = fetch_weather(new_city)\n",
        "    if error:\n",
        "        return str(error), list(weather_db.keys())\n",
        "    del weather_db[old_city]\n",
        "    weather_db[new_city] = weather\n",
        "    return f\"✅ Updated {old_city} to {new_city}.\", list(weather_db.keys())\n",
        "\n",
        "def delete_location(city):\n",
        "    if city not in weather_db:\n",
        "        return f\"❌ {city} not found.\", list(weather_db.keys())\n",
        "    del weather_db[city]\n",
        "    return f\"✅ Deleted {city}.\", list(weather_db.keys())\n"
      ],
      "metadata": {
        "id": "AI5pcM38UdBh"
      },
      "execution_count": 14,
      "outputs": []
    },
    {
      "cell_type": "code",
      "source": [
        "# Weather fetch for any input\n",
        "def get_weather_summary(city):\n",
        "    weather, error = fetch_weather(city)\n",
        "    if error:\n",
        "        return error, None\n",
        "    df = weather[\"dataframe\"]\n",
        "    csv_path = f\"{city}_weather.csv\"\n",
        "    df.to_csv(csv_path, index=False)\n",
        "    return weather[\"summary\"], csv_path\n"
      ],
      "metadata": {
        "id": "1S5FPCT1UdK3"
      },
      "execution_count": 15,
      "outputs": []
    },
    {
      "cell_type": "code",
      "source": [
        "# ===== PM Accelerator Info =====\n",
        "def pma_info():\n",
        "    return (\n",
        "        \"💡 **About Product Manager Accelerator (PMA)**\\n\\n\"\n",
        "        \"Product Manager Accelerator (PMA) empowers aspiring and current product professionals \"\n",
        "        \"to master product management through mentorship, real-world projects, and leadership training. \"\n",
        "        \"Our mission is to build future-ready PMs who drive innovation and impact in their industries.\\n\\n\"\n",
        "        \"🔗 Visit us on [LinkedIn](https://www.linkedin.com/company/product-manager-accelerator/)\"\n",
        "    )\n",
        "\n",
        "\n"
      ],
      "metadata": {
        "id": "1gMLIQzZUyiM"
      },
      "execution_count": 16,
      "outputs": []
    },
    {
      "cell_type": "code",
      "source": [
        "# ===== Custom CSS =====\n",
        "custom_css = \"\"\"\n",
        "#header {background: linear-gradient(90deg, #1E90FF, #00CED1); color: white; border-radius: 15px; padding: 15px; text-align:center;}\n",
        ".section {background-color: #F0F8FF; padding: 15px; border-radius: 15px; margin-bottom: 10px;}\n",
        ".button-primary {background: linear-gradient(90deg, #FF7F50, #FF6347); color: white; border-radius: 10px; padding: 10px 15px; font-weight:bold;}\n",
        ".button-secondary {background: linear-gradient(90deg, #32CD32, #228B22); color: white; border-radius: 10px; padding: 10px 15px; font-weight:bold;}\n",
        "textarea {border-radius: 10px; border: 2px solid #1E90FF; padding:5px;}\n",
        "\"\"\""
      ],
      "metadata": {
        "id": "fVLeoV9xZAFA"
      },
      "execution_count": 17,
      "outputs": []
    },
    {
      "cell_type": "code",
      "source": [
        "\n",
        "# ===== Gradio UI =====\n",
        "with gr.Blocks(css=custom_css) as demo:\n",
        "    # Header\n",
        "    gr.Markdown(\"## 🌦️ MyWeatherApp\", elem_id=\"header\")\n",
        "    gr.Markdown(\"### Developed by **Sareena** | Powered by **PMA**\")\n",
        "\n",
        "    # PMA Info\n",
        "    with gr.Row(elem_classes=\"section\"):\n",
        "        info_btn = gr.Button(\"ℹ️ PMA Info\", elem_classes=\"button-secondary\")\n",
        "        pma_output = gr.Markdown()\n",
        "    info_btn.click(fn=pma_info, inputs=None, outputs=pma_output)\n",
        "\n",
        "    # Location input and Check Weather button\n",
        "    with gr.Row(elem_classes=\"section\"):\n",
        "        city_input = gr.Textbox(label=\"Location\", placeholder=\"Enter city/ZIP/landmark\")\n",
        "    get_weather_btn = gr.Button(\"🔍 Check Weather\", elem_classes=\"button-primary\")\n",
        "    weather_output = gr.Textbox(label=\"Weather Summary\", lines=12, interactive=False)\n",
        "\n",
        "    get_weather_btn.click(get_weather_summary, inputs=city_input, outputs=[weather_output, gr.File()])\n",
        "\n",
        "    # CRUD section\n",
        "    new_city_input = gr.Textbox(label=\"New Location (for Update)\", placeholder=\"Optional\")\n",
        "    with gr.Row(elem_classes=\"section\"):\n",
        "        add_btn = gr.Button(\"➕ Add Location\", elem_classes=\"button-primary\")\n",
        "        update_btn = gr.Button(\"✏️ Update Location\", elem_classes=\"button-primary\")\n",
        "        delete_btn = gr.Button(\"🗑️ Delete Location\", elem_classes=\"button-primary\")\n",
        "        list_btn = gr.Button(\"📋 List Locations\", elem_classes=\"button-primary\")\n",
        "    location_output = gr.Textbox(label=\"Saved Locations\", lines=5, interactive=False)\n",
        "\n",
        "    add_btn.click(create_location, inputs=city_input, outputs=[location_output, location_output])\n",
        "    update_btn.click(update_location, inputs=[city_input, new_city_input], outputs=[location_output, location_output])\n",
        "    delete_btn.click(delete_location, inputs=city_input, outputs=[location_output, location_output])\n",
        "    list_btn.click(read_locations, inputs=None, outputs=[location_output, location_output])\n",
        "\n",
        "demo.launch()\n"
      ],
      "metadata": {
        "colab": {
          "base_uri": "https://localhost:8080/",
          "height": 645
        },
        "id": "MV_bC1POZCv3",
        "outputId": "51f292ed-cd43-4788-e959-f49c0456f47a"
      },
      "execution_count": 18,
      "outputs": [
        {
          "output_type": "stream",
          "name": "stdout",
          "text": [
            "It looks like you are running Gradio on a hosted Jupyter notebook, which requires `share=True`. Automatically setting `share=True` (you can turn this off by setting `share=False` in `launch()` explicitly).\n",
            "\n",
            "Colab notebook detected. To show errors in colab notebook, set debug=True in launch()\n",
            "* Running on public URL: https://c9d7d133fbfb517b9c.gradio.live\n",
            "\n",
            "This share link expires in 1 week. For free permanent hosting and GPU upgrades, run `gradio deploy` from the terminal in the working directory to deploy to Hugging Face Spaces (https://huggingface.co/spaces)\n"
          ]
        },
        {
          "output_type": "display_data",
          "data": {
            "text/plain": [
              "<IPython.core.display.HTML object>"
            ],
            "text/html": [
              "<div><iframe src=\"https://c9d7d133fbfb517b9c.gradio.live\" width=\"100%\" height=\"500\" allow=\"autoplay; camera; microphone; clipboard-read; clipboard-write;\" frameborder=\"0\" allowfullscreen></iframe></div>"
            ]
          },
          "metadata": {}
        },
        {
          "output_type": "execute_result",
          "data": {
            "text/plain": []
          },
          "metadata": {},
          "execution_count": 18
        }
      ]
    }
  ]
}